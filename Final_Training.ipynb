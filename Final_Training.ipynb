{
 "cells": [
  {
   "cell_type": "markdown",
   "metadata": {
    "id": "PU2N_mmccNjk"
   },
   "source": [
    "# **Import Neccessary Libraies & Functions**"
   ]
  },
  {
   "cell_type": "code",
   "execution_count": 1,
   "metadata": {
    "colab": {
     "base_uri": "https://localhost:8080/"
    },
    "executionInfo": {
     "elapsed": 26257,
     "status": "ok",
     "timestamp": 1743292078985,
     "user": {
      "displayName": "Fitsum Gebrezghiabihier",
      "userId": "14703701947314107112"
     },
     "user_tz": 240
    },
    "id": "eESYBVsHPxGk",
    "outputId": "22aec822-6669-4295-8e87-5f06a844a342"
   },
   "outputs": [
    {
     "name": "stdout",
     "output_type": "stream",
     "text": [
      "Mounted at /content/drive\n"
     ]
    }
   ],
   "source": [
    "from google.colab import drive\n",
    "drive.mount('/content/drive')"
   ]
  },
  {
   "cell_type": "code",
   "execution_count": null,
   "metadata": {
    "colab": {
     "base_uri": "https://localhost:8080/"
    },
    "executionInfo": {
     "elapsed": 10352,
     "status": "ok",
     "timestamp": 1743292089340,
     "user": {
      "displayName": "Fitsum Gebrezghiabihier",
      "userId": "14703701947314107112"
     },
     "user_tz": 240
    },
    "id": "NvXvsRrlbrGL",
    "outputId": "4d36a8e1-b38b-4662-fbb0-0ace8d958b82"
   },
   "outputs": [],
   "source": [
    "# --- Install Required Libraries ---\n",
    "# Install the necessary libraries for dataset handling and hyperparameter optimization\n",
    "!pip install datasets\n",
    "!pip install optuna"
   ]
  },
  {
   "cell_type": "code",
   "execution_count": null,
   "metadata": {
    "colab": {
     "base_uri": "https://localhost:8080/"
    },
    "executionInfo": {
     "elapsed": 20558,
     "status": "ok",
     "timestamp": 1743292109900,
     "user": {
      "displayName": "Fitsum Gebrezghiabihier",
      "userId": "14703701947314107112"
     },
     "user_tz": 240
    },
    "id": "2FB3BVl_brGN",
    "outputId": "4e03f09c-4511-4125-c2d3-eaa5e9fc0702"
   },
   "outputs": [],
   "source": [
    "## --- Import Libraries ---\n",
    "# Import all required libraries for data processing, modeling, and evaluation\n",
    "from google.colab import drive  # For accessing Google Drive\n",
    "import re\n",
    "import os\n",
    "import shutil\n",
    "import datetime\n",
    "import pandas as pd\n",
    "import numpy as np\n",
    "from sklearn.model_selection import train_test_split\n",
    "from transformers import (\n",
    "    AutoTokenizer,\n",
    "    AutoModelForSequenceClassification,\n",
    "    TrainingArguments,\n",
    "    Trainer\n",
    ")\n",
    "from datasets import Dataset\n",
    "\n",
    "from sklearn.metrics import (\n",
    "    precision_recall_fscore_support,\n",
    "    accuracy_score,\n",
    "    confusion_matrix,\n",
    "    classification_report,\n",
    "    make_scorer,\n",
    "    f1_score\n",
    ")\n",
    "from sklearn.model_selection import RandomizedSearchCV\n",
    "from transformers import AutoConfig\n",
    "import kagglehub\n",
    "from kagglehub import KaggleDatasetAdapter\n",
    "import matplotlib.pyplot as plt\n",
    "import seaborn as sns\n",
    "\n",
    "\n",
    "# --- Mount Google Drive ---\n",
    "# Mount Google Drive to access datasets or save results\n",
    "drive.mount('/content/drive')\n",
    "\n"
   ]
  },
  {
   "cell_type": "markdown",
   "metadata": {
    "id": "zDz25wGrcaXF"
   },
   "source": [
    "## **Imoprt Custom Functions**"
   ]
  },
  {
   "cell_type": "code",
   "execution_count": 4,
   "metadata": {
    "executionInfo": {
     "elapsed": 31,
     "status": "ok",
     "timestamp": 1743292109936,
     "user": {
      "displayName": "Fitsum Gebrezghiabihier",
      "userId": "14703701947314107112"
     },
     "user_tz": 240
    },
    "id": "jE5fUD5Pc5jO"
   },
   "outputs": [],
   "source": [
    "import sys\n",
    "sys.path.append('/content/drive/MyDrive/YELP-Sentiment_analysis')"
   ]
  },
  {
   "cell_type": "code",
   "execution_count": 5,
   "metadata": {
    "colab": {
     "base_uri": "https://localhost:8080/"
    },
    "executionInfo": {
     "elapsed": 992,
     "status": "ok",
     "timestamp": 1743292110935,
     "user": {
      "displayName": "Fitsum Gebrezghiabihier",
      "userId": "14703701947314107112"
     },
     "user_tz": 240
    },
    "id": "g6pbiSGIbrGO",
    "outputId": "1ce76017-513d-4434-9124-0f445b696788"
   },
   "outputs": [
    {
     "name": "stderr",
     "output_type": "stream",
     "text": [
      "[nltk_data] Downloading package stopwords to /root/nltk_data...\n",
      "[nltk_data]   Package stopwords is already up-to-date!\n",
      "[nltk_data] Downloading package wordnet to /root/nltk_data...\n",
      "[nltk_data]   Package wordnet is already up-to-date!\n",
      "[nltk_data] Downloading package omw-1.4 to /root/nltk_data...\n",
      "[nltk_data]   Package omw-1.4 is already up-to-date!\n",
      "[nltk_data] Downloading package punkt to /root/nltk_data...\n",
      "[nltk_data]   Package punkt is already up-to-date!\n",
      "[nltk_data] Downloading package punkt_tab to /root/nltk_data...\n",
      "[nltk_data]   Package punkt_tab is already up-to-date!\n"
     ]
    }
   ],
   "source": [
    "# Import reusable functions from utility.py\n",
    "from utility import (\n",
    "    load_dataset,\n",
    "    perform_eda,\n",
    "    preprocess_yelp_reviews,\n",
    "    advanced_text_preprocessing,\n",
    "    prepare_datasets,\n",
    "    create_model_config,\n",
    "    compute_metrics,\n",
    "    evaluate_model_on_test,\n",
    "    save_trained_model_and_tokenizer\n",
    ")"
   ]
  },
  {
   "cell_type": "code",
   "execution_count": 6,
   "metadata": {
    "colab": {
     "base_uri": "https://localhost:8080/",
     "height": 1000,
     "referenced_widgets": [
      "74dd94f93bf7448ca421cc62ac04a974",
      "5870c2a433ee42029e1a792b0f28a3b2",
      "c1fdefb2733d4662947986e8c0e883eb",
      "64074492666e4e2c80b5ad600059ecb5",
      "95f9ba6e77f1403981c7656d7d916927",
      "4c2c67813fb24ceb96ca17fead04c9ce",
      "510dc45db33e4dc38952b134fd711763",
      "a702167a57fd4b54945751a038d37027",
      "708821227cb6498a950cafe59536f2f3",
      "cee2c47a9acd42598bc694ef75de267b",
      "ded0625483c84cb49eacb98b98d4d5ee",
      "59cba997862b49e4bb104542a5f3ee92",
      "f56a46ec9e8144929e60cfc3ac4a4322",
      "9c8e5de13fa347778bb4b060a218b1d0",
      "d1fd7c46f4254cfa8ab08f035ac01d95",
      "99316c6b65654773988701815ef4d282",
      "acd55806468c424f9fc75e8af5d76435",
      "26891ec295404660bed2eede8699379b",
      "65d998c202b0490b965c2ffcebd320e5",
      "5f52f0bedd934c9dae7556066a644ad4",
      "4717f95473a24b088a576bcb1cc5d17e",
      "6d4348beaa2f434fae102a7a7e4c7f3c",
      "76448e6116d844cc89a5e601f102068c",
      "cbd8c601cc004877bd21108b036fabc8",
      "2e60b7b01d684d04bb69902d9701b6a7",
      "2ca38a9323344a8ca9a9197e71ed286b",
      "bd0c2e15c78843a69fc21c32d6f191eb",
      "f93f98ceb4b74dc88318662511fab837",
      "d42ab857f9854f739f33d988e151d6b1",
      "394a95b8167043418ca767a1ab5de488",
      "2035c99e563942298f1b3279c2620054",
      "fc33e02afecc4d248821c76dd23e8292",
      "c632ca34b46640c48426f00660f250b1",
      "4e1519e3ad7f4c4a96d8d0718a881ada",
      "a3c0f464daf849559bdd7633dcef07c9",
      "3e2bd6854b6f4a699fa3b4670056ded5",
      "117ae17f73c94ed4b408a6bceff3565b",
      "4e99dd73e9fa4dc184eb87f07d478219",
      "2d90ad9b32c54dad8b4e73fab65f19d8",
      "0f3a71960293438d80f11db0051179da",
      "4a71f83dc9134afdbeed873d86fb4db6",
      "e80a997095594c6cae7f4c06edfc370a",
      "95881d3b6f944278b73b2f1256fa4fcb",
      "541d13abdc4b4521860ce649c0f92007",
      "dc1f5a46055b462aa99143768096d203",
      "3345db6f15e04721a32d69ab0bbb6cb6",
      "aed0ecf6d4a2419d840aba10a40e456c",
      "ee2a809fe2cb40f2bcd19af4fe9b5133",
      "d889a26b7d274d818925b45d14831c2f",
      "e205f670aa2b48ce8685a0c681812fdb",
      "2544722fa9fb4ac6a9590b73103549c8",
      "a82c87e125ef4c6b9a882feb7cdd4796",
      "adcb1806eec2407a85a29adff50392ab",
      "72ab1764c53d4905ab6d08f7dae24689",
      "56231329393645aebb346fcb0f35bf0a",
      "b863b2808f9541a1be9c32162ffb45c8",
      "dc6b0b37284e45589fdfc969542e5ba8",
      "2198ec090c744319b1709a7ab783ea6c",
      "2ad02ea3aed8409e9906a3130f2f6dab",
      "86361f7c16504848a98f7c4816e12cad",
      "00dd71d96eae46589aa6644f7516c655",
      "02f228f599f945eda4ba02c51d9faf78",
      "8f85ad859cc349deaff1bb728350912e",
      "1f3d5fd67e4840d8857d7bd0ec92b176",
      "99301285dca74cd6b3f340faa24c58a7",
      "7d5f685e4e184de498dcbbefcfc90d5f",
      "cf1e1558385c4376bbc06e9fea00f5dd",
      "6124375a36f848f1881be75d65ac97b8",
      "86c5a12ef6d24302a8db90a91cd7f220",
      "7dcece7a67c344f7bc0789e73d89ec1b",
      "3ec45328c8314ccb890581bc23c9e048",
      "e9e0f7f7176b4f58b4cada8f30a73736",
      "0dae0cf612c14ed9a23c23ad5a33ba27",
      "ce88c03e2e0b4ff78d341b30fbf2974e",
      "2f632d24b62b4fe394c7da95a8052fdb",
      "429376d69386418aa7216b6abe418e66",
      "d3ec150d06e244f58ce15e8c2cce19c0",
      "cf71bb0252d648a3a173d75e806ac4df",
      "b2da8f043e4b47099c6c7ddff327b218",
      "c4225ce8c1844324bc3e2e46851ee2cd",
      "9c9058c8461e4ae9b28a8b0223a1b8da",
      "11daed175ff046cfb0dfcc5c6f5c3a5c",
      "4c0c41f48bc241ba83f10cdfd65468db",
      "a78f59f897884b068a63b1f7b85c1336",
      "d8f0f323e5a040a29fd13c827721cc5c",
      "583ebb6a3554483d96fd4f21f9634523",
      "d73f03bce7e547b2b7bc09ef1dc2e61e",
      "8332bde65e8f401e93f55a190c3ca917"
     ]
    },
    "executionInfo": {
     "elapsed": 11461629,
     "status": "ok",
     "timestamp": 1743303572568,
     "user": {
      "displayName": "Fitsum Gebrezghiabihier",
      "userId": "14703701947314107112"
     },
     "user_tz": 240
    },
    "id": "1hi7LPNfbrGO",
    "outputId": "f6503343-f5a2-4ce4-b576-7008e14e0a1b"
   },
   "outputs": [
    {
     "name": "stdout",
     "output_type": "stream",
     "text": [
      "Downloading from https://www.kaggle.com/api/v1/datasets/download/capple7/yelp-open-data-philly-restaurants?dataset_version_number=4&file_name=Final.csv...\n"
     ]
    },
    {
     "name": "stderr",
     "output_type": "stream",
     "text": [
      "100%|██████████| 1.33G/1.33G [01:01<00:00, 23.3MB/s]"
     ]
    },
    {
     "name": "stdout",
     "output_type": "stream",
     "text": [
      "Extracting zip of Final.csv...\n"
     ]
    },
    {
     "name": "stderr",
     "output_type": "stream",
     "text": [
      "\n",
      "/usr/local/lib/python3.11/dist-packages/huggingface_hub/utils/_auth.py:94: UserWarning: \n",
      "The secret `HF_TOKEN` does not exist in your Colab secrets.\n",
      "To authenticate with the Hugging Face Hub, create a token in your settings tab (https://huggingface.co/settings/tokens), set it as secret in your Google Colab and restart your session.\n",
      "You will be able to reuse this secret in all of your notebooks.\n",
      "Please note that authentication is recommended but still optional to access public models or datasets.\n",
      "  warnings.warn(\n"
     ]
    },
    {
     "data": {
      "application/vnd.jupyter.widget-view+json": {
       "model_id": "74dd94f93bf7448ca421cc62ac04a974",
       "version_major": 2,
       "version_minor": 0
      },
      "text/plain": [
       "tokenizer_config.json:   0%|          | 0.00/48.0 [00:00<?, ?B/s]"
      ]
     },
     "metadata": {},
     "output_type": "display_data"
    },
    {
     "data": {
      "application/vnd.jupyter.widget-view+json": {
       "model_id": "59cba997862b49e4bb104542a5f3ee92",
       "version_major": 2,
       "version_minor": 0
      },
      "text/plain": [
       "config.json:   0%|          | 0.00/483 [00:00<?, ?B/s]"
      ]
     },
     "metadata": {},
     "output_type": "display_data"
    },
    {
     "data": {
      "application/vnd.jupyter.widget-view+json": {
       "model_id": "76448e6116d844cc89a5e601f102068c",
       "version_major": 2,
       "version_minor": 0
      },
      "text/plain": [
       "vocab.txt:   0%|          | 0.00/232k [00:00<?, ?B/s]"
      ]
     },
     "metadata": {},
     "output_type": "display_data"
    },
    {
     "data": {
      "application/vnd.jupyter.widget-view+json": {
       "model_id": "4e1519e3ad7f4c4a96d8d0718a881ada",
       "version_major": 2,
       "version_minor": 0
      },
      "text/plain": [
       "tokenizer.json:   0%|          | 0.00/466k [00:00<?, ?B/s]"
      ]
     },
     "metadata": {},
     "output_type": "display_data"
    },
    {
     "data": {
      "application/vnd.jupyter.widget-view+json": {
       "model_id": "dc1f5a46055b462aa99143768096d203",
       "version_major": 2,
       "version_minor": 0
      },
      "text/plain": [
       "Map:   0%|          | 0/502870 [00:00<?, ? examples/s]"
      ]
     },
     "metadata": {},
     "output_type": "display_data"
    },
    {
     "data": {
      "application/vnd.jupyter.widget-view+json": {
       "model_id": "b863b2808f9541a1be9c32162ffb45c8",
       "version_major": 2,
       "version_minor": 0
      },
      "text/plain": [
       "Map:   0%|          | 0/107758 [00:00<?, ? examples/s]"
      ]
     },
     "metadata": {},
     "output_type": "display_data"
    },
    {
     "data": {
      "application/vnd.jupyter.widget-view+json": {
       "model_id": "cf1e1558385c4376bbc06e9fea00f5dd",
       "version_major": 2,
       "version_minor": 0
      },
      "text/plain": [
       "Map:   0%|          | 0/107758 [00:00<?, ? examples/s]"
      ]
     },
     "metadata": {},
     "output_type": "display_data"
    },
    {
     "name": "stderr",
     "output_type": "stream",
     "text": [
      "/usr/local/lib/python3.11/dist-packages/transformers/training_args.py:1611: FutureWarning: `evaluation_strategy` is deprecated and will be removed in version 4.46 of 🤗 Transformers. Use `eval_strategy` instead\n",
      "  warnings.warn(\n"
     ]
    },
    {
     "data": {
      "application/vnd.jupyter.widget-view+json": {
       "model_id": "cf71bb0252d648a3a173d75e806ac4df",
       "version_major": 2,
       "version_minor": 0
      },
      "text/plain": [
       "model.safetensors:   0%|          | 0.00/268M [00:00<?, ?B/s]"
      ]
     },
     "metadata": {},
     "output_type": "display_data"
    },
    {
     "name": "stderr",
     "output_type": "stream",
     "text": [
      "Some weights of DistilBertForSequenceClassification were not initialized from the model checkpoint at distilbert-base-uncased and are newly initialized: ['classifier.bias', 'classifier.weight', 'pre_classifier.bias', 'pre_classifier.weight']\n",
      "You should probably TRAIN this model on a down-stream task to be able to use it for predictions and inference.\n",
      "<ipython-input-6-2bd6e9444d53>:44: FutureWarning: `tokenizer` is deprecated and will be removed in version 5.0.0 for `Trainer.__init__`. Use `processing_class` instead.\n",
      "  trainer = Trainer(\n",
      "\u001b[34m\u001b[1mwandb\u001b[0m: \u001b[33mWARNING\u001b[0m The `run_name` is currently set to the same value as `TrainingArguments.output_dir`. If this was not intended, please specify a different run name by setting the `TrainingArguments.run_name` parameter.\n",
      "\u001b[34m\u001b[1mwandb\u001b[0m: Using wandb-core as the SDK backend.  Please refer to https://wandb.me/wandb-core for more information.\n"
     ]
    },
    {
     "data": {
      "application/javascript": "\n        window._wandbApiKey = new Promise((resolve, reject) => {\n            function loadScript(url) {\n            return new Promise(function(resolve, reject) {\n                let newScript = document.createElement(\"script\");\n                newScript.onerror = reject;\n                newScript.onload = resolve;\n                document.body.appendChild(newScript);\n                newScript.src = url;\n            });\n            }\n            loadScript(\"https://cdn.jsdelivr.net/npm/postmate/build/postmate.min.js\").then(() => {\n            const iframe = document.createElement('iframe')\n            iframe.style.cssText = \"width:0;height:0;border:none\"\n            document.body.appendChild(iframe)\n            const handshake = new Postmate({\n                container: iframe,\n                url: 'https://wandb.ai/authorize'\n            });\n            const timeout = setTimeout(() => reject(\"Couldn't auto authenticate\"), 5000)\n            handshake.then(function(child) {\n                child.on('authorize', data => {\n                    clearTimeout(timeout)\n                    resolve(data)\n                });\n            });\n            })\n        });\n    ",
      "text/plain": [
       "<IPython.core.display.Javascript object>"
      ]
     },
     "metadata": {},
     "output_type": "display_data"
    },
    {
     "name": "stderr",
     "output_type": "stream",
     "text": [
      "\u001b[34m\u001b[1mwandb\u001b[0m: Logging into wandb.ai. (Learn how to deploy a W&B server locally: https://wandb.me/wandb-server)\n",
      "\u001b[34m\u001b[1mwandb\u001b[0m: You can find your API key in your browser here: https://wandb.ai/authorize\n",
      "wandb: Paste an API key from your profile and hit enter:"
     ]
    },
    {
     "name": "stdout",
     "output_type": "stream",
     "text": [
      " ··········\n"
     ]
    },
    {
     "name": "stderr",
     "output_type": "stream",
     "text": [
      "\u001b[34m\u001b[1mwandb\u001b[0m: \u001b[33mWARNING\u001b[0m If you're specifying your api key in code, ensure this code is not shared publicly.\n",
      "\u001b[34m\u001b[1mwandb\u001b[0m: \u001b[33mWARNING\u001b[0m Consider setting the WANDB_API_KEY environment variable, or running `wandb login` from the command line.\n",
      "\u001b[34m\u001b[1mwandb\u001b[0m: No netrc file found, creating one.\n",
      "\u001b[34m\u001b[1mwandb\u001b[0m: Appending key for api.wandb.ai to your netrc file: /root/.netrc\n",
      "\u001b[34m\u001b[1mwandb\u001b[0m: Currently logged in as: \u001b[33mfitsumbahlbi\u001b[0m (\u001b[33mfitsumbahlbi-lighthouse-labs\u001b[0m) to \u001b[32mhttps://api.wandb.ai\u001b[0m. Use \u001b[1m`wandb login --relogin`\u001b[0m to force relogin\n"
     ]
    },
    {
     "data": {
      "text/html": [
       "Tracking run with wandb version 0.19.8"
      ],
      "text/plain": [
       "<IPython.core.display.HTML object>"
      ]
     },
     "metadata": {},
     "output_type": "display_data"
    },
    {
     "data": {
      "text/html": [
       "Run data is saved locally in <code>/content/wandb/run-20250329_235447-8rc5mora</code>"
      ],
      "text/plain": [
       "<IPython.core.display.HTML object>"
      ]
     },
     "metadata": {},
     "output_type": "display_data"
    },
    {
     "data": {
      "text/html": [
       "Syncing run <strong><a href='https://wandb.ai/fitsumbahlbi-lighthouse-labs/huggingface/runs/8rc5mora' target=\"_blank\">./results</a></strong> to <a href='https://wandb.ai/fitsumbahlbi-lighthouse-labs/huggingface' target=\"_blank\">Weights & Biases</a> (<a href='https://wandb.me/developer-guide' target=\"_blank\">docs</a>)<br>"
      ],
      "text/plain": [
       "<IPython.core.display.HTML object>"
      ]
     },
     "metadata": {},
     "output_type": "display_data"
    },
    {
     "data": {
      "text/html": [
       " View project at <a href='https://wandb.ai/fitsumbahlbi-lighthouse-labs/huggingface' target=\"_blank\">https://wandb.ai/fitsumbahlbi-lighthouse-labs/huggingface</a>"
      ],
      "text/plain": [
       "<IPython.core.display.HTML object>"
      ]
     },
     "metadata": {},
     "output_type": "display_data"
    },
    {
     "data": {
      "text/html": [
       " View run at <a href='https://wandb.ai/fitsumbahlbi-lighthouse-labs/huggingface/runs/8rc5mora' target=\"_blank\">https://wandb.ai/fitsumbahlbi-lighthouse-labs/huggingface/runs/8rc5mora</a>"
      ],
      "text/plain": [
       "<IPython.core.display.HTML object>"
      ]
     },
     "metadata": {},
     "output_type": "display_data"
    },
    {
     "data": {
      "text/html": [
       "\n",
       "    <div>\n",
       "      \n",
       "      <progress value='31430' max='31430' style='width:300px; height:20px; vertical-align: middle;'></progress>\n",
       "      [31430/31430 2:57:38, Epoch 2/2]\n",
       "    </div>\n",
       "    <table border=\"1\" class=\"dataframe\">\n",
       "  <thead>\n",
       " <tr style=\"text-align: left;\">\n",
       "      <th>Epoch</th>\n",
       "      <th>Training Loss</th>\n",
       "      <th>Validation Loss</th>\n",
       "      <th>Accuracy</th>\n",
       "      <th>F1</th>\n",
       "      <th>Precision</th>\n",
       "      <th>Recall</th>\n",
       "    </tr>\n",
       "  </thead>\n",
       "  <tbody>\n",
       "    <tr>\n",
       "      <td>1</td>\n",
       "      <td>0.511000</td>\n",
       "      <td>0.512808</td>\n",
       "      <td>0.775636</td>\n",
       "      <td>0.773667</td>\n",
       "      <td>0.773073</td>\n",
       "      <td>0.775636</td>\n",
       "    </tr>\n",
       "    <tr>\n",
       "      <td>2</td>\n",
       "      <td>0.461000</td>\n",
       "      <td>0.495084</td>\n",
       "      <td>0.782643</td>\n",
       "      <td>0.781248</td>\n",
       "      <td>0.780719</td>\n",
       "      <td>0.782643</td>\n",
       "    </tr>\n",
       "  </tbody>\n",
       "</table><p>"
      ],
      "text/plain": [
       "<IPython.core.display.HTML object>"
      ]
     },
     "metadata": {},
     "output_type": "display_data"
    },
    {
     "name": "stdout",
     "output_type": "stream",
     "text": [
      "Evaluating the model on the test dataset...\n"
     ]
    },
    {
     "data": {
      "text/html": [
       "\n",
       "    <div>\n",
       "      \n",
       "      <progress value='13470' max='13470' style='width:300px; height:20px; vertical-align: middle;'></progress>\n",
       "      [13470/13470 07:02]\n",
       "    </div>\n",
       "    "
      ],
      "text/plain": [
       "<IPython.core.display.HTML object>"
      ]
     },
     "metadata": {},
     "output_type": "display_data"
    },
    {
     "name": "stdout",
     "output_type": "stream",
     "text": [
      "Test Evaluation Results:\n",
      "eval_loss: 0.4936\n",
      "eval_accuracy: 0.7840\n",
      "eval_f1: 0.7825\n",
      "eval_precision: 0.7819\n",
      "eval_recall: 0.7840\n",
      "eval_runtime: 423.0232\n",
      "eval_samples_per_second: 254.7330\n",
      "eval_steps_per_second: 31.8420\n",
      "epoch: 2.0000\n",
      "Saving the trained model and tokenizer to /content/drive/MyDrive/YELP-Sentiment_analysis_20250330_025931...\n",
      "Model saved successfully!\n",
      "Tokenizer saved successfully!\n"
     ]
    }
   ],
   "source": [
    "def main(perform_eda_flag=False, visualize_eda=False):\n",
    "    # Load the dataset\n",
    "    file_path = \"Final.csv\"\n",
    "    columns = [\"text\", \"stars\"]\n",
    "    review_df = load_dataset(file_path, columns)\n",
    "\n",
    "    # Preprocess the data\n",
    "    review_df = preprocess_yelp_reviews(review_df)\n",
    "    review_df['processed_text'] = review_df['text'].apply(advanced_text_preprocessing)\n",
    "\n",
    "    # Prepare datasets (use the entire dataset)\n",
    "    train_dataset, val_dataset, test_dataset, tokenizer = prepare_datasets(review_df)\n",
    "\n",
    "    # Load the best hyperparameters (replace with actual values)\n",
    "    best_hyperparameters = {\n",
    "        \"learning_rate\": 3e-5,\n",
    "        \"per_device_train_batch_size\": 16,\n",
    "        \"num_train_epochs\": 5\n",
    "    }\n",
    "\n",
    "    # Define training arguments with the best hyperparameters\n",
    "    training_args = TrainingArguments(\n",
    "        output_dir=\"./results\",\n",
    "        evaluation_strategy=\"epoch\",\n",
    "        save_strategy=\"epoch\",\n",
    "        num_train_epochs=2,  # From hyperparameter search\n",
    "        learning_rate=7.91e-5,  # From hyperparameter search\n",
    "        per_device_train_batch_size=32,  # From hyperparameter search\n",
    "        seed = 5, # From hyperparameter search\n",
    "        weight_decay=0.01,\n",
    "        logging_dir=\"./logs\",\n",
    "        logging_steps=50,\n",
    "        report_to=\"wandb\",  # Log metrics to Wandb\n",
    "        load_best_model_at_end=True\n",
    "    )\n",
    "\n",
    "    # Initialize the model\n",
    "    model = AutoModelForSequenceClassification.from_pretrained(\n",
    "        \"distilbert-base-uncased\",\n",
    "        config=create_model_config()\n",
    "    )\n",
    "\n",
    "    # Initialize the Trainer\n",
    "    trainer = Trainer(\n",
    "        model=model,\n",
    "        args=training_args,\n",
    "        train_dataset=train_dataset,\n",
    "        eval_dataset=val_dataset,\n",
    "        tokenizer=tokenizer,\n",
    "        compute_metrics=compute_metrics\n",
    "    )\n",
    "\n",
    "    # Train the model\n",
    "    trainer.train()\n",
    "\n",
    "    # Evaluate the model on the test dataset\n",
    "    test_results = evaluate_model_on_test(trainer, test_dataset)\n",
    "\n",
    "    # Save the trained model\n",
    "    save_trained_model_and_tokenizer(trainer, tokenizer, save_path=\"/content/drive/MyDrive/YELP-Sentiment_analysis\")\n",
    "\n",
    "\n",
    "\n",
    "# Run the main function\n",
    "if __name__ == \"__main__\":\n",
    "    main(perform_eda_flag=True, visualize_eda=True)  # Set to True if you want to perform EDA"
   ]
  },
  {
   "cell_type": "code",
   "execution_count": 12,
   "metadata": {
    "colab": {
     "base_uri": "https://localhost:8080/",
     "height": 17,
     "referenced_widgets": [
      "e9ad8001b1924d23a177c698a4e68176",
      "909821d152d84718a03743168c52143b",
      "2f0b5e9df1884a25998b7948c3204ea6",
      "fa4ad3a0e75f4415bcdcf5df48d55df4",
      "59548345d38843548896f1b2c5ad2ad6",
      "69ba32ba724c41e69c9621abdaf315f5",
      "74661bdb59dc4f9fb08ef2876f66ebf8",
      "031e8f01607544b5b74bdff60c3dcca4",
      "6b2b6d262f0548f0bcc409958f4b5ee5",
      "7324c56045514c99a66ee55184b1d477",
      "d0a1343ba9e34ec7a3fc5389fb247353",
      "a5cd1057ac264bc1ab81999e377f9929",
      "59637aeb896b4c2fbb701bc4eb21065d",
      "5cab6fc82da5435a96ea683bb4f88573",
      "eebd864b1d56455a83d3560801c6441f",
      "ecd3c43ffa7044629475d8584bc70b1d",
      "6e31e1d037574c28834525f637be2d21",
      "4d98afb6d1254b28be635d5941af3d59",
      "a70b132542c949c48b46b9303d81878f",
      "81fa78f8ddbc4512bb2bdfbb60afca2a"
     ]
    },
    "executionInfo": {
     "elapsed": 123,
     "status": "ok",
     "timestamp": 1743304125728,
     "user": {
      "displayName": "Fitsum Gebrezghiabihier",
      "userId": "14703701947314107112"
     },
     "user_tz": 240
    },
    "id": "jvBb59msuq1Q",
    "outputId": "a9b125d4-9ba4-4189-a139-96e89b945b2a"
   },
   "outputs": [
    {
     "data": {
      "application/vnd.jupyter.widget-view+json": {
       "model_id": "e9ad8001b1924d23a177c698a4e68176",
       "version_major": 2,
       "version_minor": 0
      },
      "text/plain": [
       "VBox(children=(HTML(value='<center> <img\\nsrc=https://huggingface.co/front/assets/huggingface_logo-noborder.sv…"
      ]
     },
     "metadata": {},
     "output_type": "display_data"
    }
   ],
   "source": [
    "# 1- Authenticate with Hugging Face:\n",
    "from huggingface_hub import notebook_login\n",
    "notebook_login()\n"
   ]
  },
  {
   "cell_type": "code",
   "execution_count": 8,
   "metadata": {
    "colab": {
     "base_uri": "https://localhost:8080/"
    },
    "executionInfo": {
     "elapsed": 2840,
     "status": "ok",
     "timestamp": 1743303615148,
     "user": {
      "displayName": "Fitsum Gebrezghiabihier",
      "userId": "14703701947314107112"
     },
     "user_tz": 240
    },
    "id": "iyhlMG-tutDQ",
    "outputId": "1b06c379-7ff2-41ab-8817-d2e5a65f032c"
   },
   "outputs": [
    {
     "name": "stdout",
     "output_type": "stream",
     "text": [
      "Reading package lists... Done\n",
      "Building dependency tree... Done\n",
      "Reading state information... Done\n",
      "git-lfs is already the newest version (3.0.2-1ubuntu0.3).\n",
      "0 upgraded, 0 newly installed, 0 to remove and 29 not upgraded.\n"
     ]
    }
   ],
   "source": [
    "# 2- Install Git Large File Storage (Git LFS):\n",
    "!apt-get install git-lfs\n"
   ]
  },
  {
   "cell_type": "code",
   "execution_count": 10,
   "metadata": {
    "colab": {
     "base_uri": "https://localhost:8080/"
    },
    "executionInfo": {
     "elapsed": 2638,
     "status": "ok",
     "timestamp": 1743304082218,
     "user": {
      "displayName": "Fitsum Gebrezghiabihier",
      "userId": "14703701947314107112"
     },
     "user_tz": 240
    },
    "id": "x03obXSnuv-m",
    "outputId": "7a76b69a-9407-4258-ce38-8bde77dcb1ef"
   },
   "outputs": [
    {
     "name": "stdout",
     "output_type": "stream",
     "text": [
      "Requirement already satisfied: transformers in /usr/local/lib/python3.11/dist-packages (4.50.0)\n",
      "Requirement already satisfied: huggingface_hub in /usr/local/lib/python3.11/dist-packages (0.29.3)\n",
      "Requirement already satisfied: filelock in /usr/local/lib/python3.11/dist-packages (from transformers) (3.18.0)\n",
      "Requirement already satisfied: numpy>=1.17 in /usr/local/lib/python3.11/dist-packages (from transformers) (2.0.2)\n",
      "Requirement already satisfied: packaging>=20.0 in /usr/local/lib/python3.11/dist-packages (from transformers) (24.2)\n",
      "Requirement already satisfied: pyyaml>=5.1 in /usr/local/lib/python3.11/dist-packages (from transformers) (6.0.2)\n",
      "Requirement already satisfied: regex!=2019.12.17 in /usr/local/lib/python3.11/dist-packages (from transformers) (2024.11.6)\n",
      "Requirement already satisfied: requests in /usr/local/lib/python3.11/dist-packages (from transformers) (2.32.3)\n",
      "Requirement already satisfied: tokenizers<0.22,>=0.21 in /usr/local/lib/python3.11/dist-packages (from transformers) (0.21.1)\n",
      "Requirement already satisfied: safetensors>=0.4.3 in /usr/local/lib/python3.11/dist-packages (from transformers) (0.5.3)\n",
      "Requirement already satisfied: tqdm>=4.27 in /usr/local/lib/python3.11/dist-packages (from transformers) (4.67.1)\n",
      "Requirement already satisfied: fsspec>=2023.5.0 in /usr/local/lib/python3.11/dist-packages (from huggingface_hub) (2024.12.0)\n",
      "Requirement already satisfied: typing-extensions>=3.7.4.3 in /usr/local/lib/python3.11/dist-packages (from huggingface_hub) (4.12.2)\n",
      "Requirement already satisfied: charset-normalizer<4,>=2 in /usr/local/lib/python3.11/dist-packages (from requests->transformers) (3.4.1)\n",
      "Requirement already satisfied: idna<4,>=2.5 in /usr/local/lib/python3.11/dist-packages (from requests->transformers) (3.10)\n",
      "Requirement already satisfied: urllib3<3,>=1.21.1 in /usr/local/lib/python3.11/dist-packages (from requests->transformers) (2.3.0)\n",
      "Requirement already satisfied: certifi>=2017.4.17 in /usr/local/lib/python3.11/dist-packages (from requests->transformers) (2025.1.31)\n"
     ]
    }
   ],
   "source": [
    "!pip install transformers huggingface_hub\n"
   ]
  },
  {
   "cell_type": "code",
   "execution_count": 13,
   "metadata": {
    "colab": {
     "base_uri": "https://localhost:8080/",
     "height": 205,
     "referenced_widgets": [
      "cc170bdee2ad497aa930d81bdf4a111a",
      "97bcdef207cc43898eed707b4e30cbc3",
      "8e238650baab48bdb03e1310972643ce",
      "9d92e55caebc4a018bff3a2261f0a996",
      "cffeaf9e432144dcb5a0dec7c895974c",
      "d6af074cde0141ef8bb9b8ae10a961c6",
      "2a9aeead16054b4f806fb2c47d43173c",
      "f3d9e466a7014d84be0d1931c935aba5",
      "02d49ac6575f4d4c8d02b6d269ef934f",
      "5b04056fa33948feb5d4a6e432b060e8",
      "57d4c13f36f645559393d035336040a6",
      "9aefa6251df84afa9284f5f0f8bb113f",
      "f97dd862b7434d2c846b90d2c4b998ef",
      "0619fe47094a4690bc9ca5267041f2c9",
      "582ba2b34c304112986fbc5002cc3b3f",
      "2b113fd1740e4720939eeef72cd130aa",
      "f84f0f77080e40bca3e7773ce414cb92",
      "3f6717fd34e8463298c9b297b14a7afc",
      "6955debacc8343a78845706d4b4ea21a",
      "e8414c2f6e8b4bb7beb9e5988c356011",
      "c491ef158c8346889b67bb5d911cb852",
      "150758a098d04fba9fe377aa5d38e809"
     ]
    },
    "executionInfo": {
     "elapsed": 25923,
     "status": "ok",
     "timestamp": 1743304178981,
     "user": {
      "displayName": "Fitsum Gebrezghiabihier",
      "userId": "14703701947314107112"
     },
     "user_tz": 240
    },
    "id": "6Mmm78Dqu4cf",
    "outputId": "1d519e4a-89d4-4366-fc2e-607a94718c2c"
   },
   "outputs": [
    {
     "data": {
      "application/vnd.jupyter.widget-view+json": {
       "model_id": "cc170bdee2ad497aa930d81bdf4a111a",
       "version_major": 2,
       "version_minor": 0
      },
      "text/plain": [
       "README.md:   0%|          | 0.00/31.0 [00:00<?, ?B/s]"
      ]
     },
     "metadata": {},
     "output_type": "display_data"
    },
    {
     "data": {
      "application/vnd.jupyter.widget-view+json": {
       "model_id": "9aefa6251df84afa9284f5f0f8bb113f",
       "version_major": 2,
       "version_minor": 0
      },
      "text/plain": [
       "model.safetensors:   0%|          | 0.00/268M [00:00<?, ?B/s]"
      ]
     },
     "metadata": {},
     "output_type": "display_data"
    },
    {
     "data": {
      "application/vnd.google.colaboratory.intrinsic+json": {
       "type": "string"
      },
      "text/plain": [
       "CommitInfo(commit_url='https://huggingface.co/fitsblb/YelpReviewsAnalyzer/commit/7ce87b29e0528dc5fdb8458ad28d4da60498c393', commit_message='Upload tokenizer', commit_description='', oid='7ce87b29e0528dc5fdb8458ad28d4da60498c393', pr_url=None, repo_url=RepoUrl('https://huggingface.co/fitsblb/YelpReviewsAnalyzer', endpoint='https://huggingface.co', repo_type='model', repo_id='fitsblb/YelpReviewsAnalyzer'), pr_revision=None, pr_num=None)"
      ]
     },
     "execution_count": 13,
     "metadata": {},
     "output_type": "execute_result"
    }
   ],
   "source": [
    "from transformers import AutoTokenizer, AutoModelForSequenceClassification\n",
    "from huggingface_hub import HfApi\n",
    "\n",
    "# Load the model and tokenizer\n",
    "model_dir = \"/content/drive/MyDrive/YELP-Sentiment_analysis_20250330_025931\"\n",
    "model = AutoModelForSequenceClassification.from_pretrained(model_dir)\n",
    "tokenizer = AutoTokenizer.from_pretrained(model_dir)\n",
    "\n",
    "# Push the model and tokenizer to your Hugging Face repository\n",
    "model.push_to_hub(\"fitsblb/YelpReviewsAnalyzer\")\n",
    "tokenizer.push_to_hub(\"fitsblb/YelpReviewsAnalyzer\")\n",
    "\n"
   ]
  },
  {
   "cell_type": "code",
   "execution_count": 14,
   "metadata": {
    "colab": {
     "base_uri": "https://localhost:8080/",
     "height": 209,
     "referenced_widgets": [
      "f56d4ed9a9804888bbe257262d0f8866",
      "c4e564211e46438b980b4ecc97e8a5dd",
      "0a4945ee3e2e4fbaafa6bfb5f28f7094",
      "cf502810bdd444a0be701d482859568c",
      "860f6adf83a84807a22b7273efb82b0e",
      "c7732680cee54d8fa05c6935dad3df04",
      "189bb8a2502546919e1a47374e05f57a",
      "0892824ab2bc49ca9e36686f865d659c",
      "94fde86179c8422a93b7ccaf10444456",
      "ffc3883ea96449b3b7fe57ec439c093e",
      "5249ec79b0014c8abc0ebf58003b4bfb",
      "38790746430d49ecbd20a6fbbfcb79a2",
      "aa1045cca8c24102ba154f50bd001088",
      "aadd97392bd146da85d5c188d6058881",
      "601cfece3b9145988a54cb49294e28ba",
      "1d67c8617b4e47e187c1397193f2a3aa",
      "8e6f9078ef2241a58f48c5e94f33f2a8",
      "42aafa24b79f4c3aa1fa436b08d72da4",
      "0de611e1bbbb4188b6691e0eee489274",
      "213e9c98d52c4916aa3fc3e4e2514136",
      "f23e90df796541a1af3447686c783476",
      "4fb31f36e6e849609e0504290a2bfbb5",
      "ae35cf14b6b74d93a570c9af37ad3dfd",
      "ffca069dbe144c139494a557d41bf126",
      "89bc89d237b94ea89117b2953ff36fab",
      "95b7756a26864b18ac2c497032f26848",
      "37d1a6d47882444d84f5b8ad1b584c45",
      "84056ef4f33443adbf7d59aeb26ec43e",
      "ac491e7fe1c24d56a768dad4ffa435af",
      "815b9db24fae4284b490331f0c41eeac",
      "0166a795b6864d698c564d34a4cb14f6",
      "dd19bb87de5e48429419ad4897e99380",
      "255b26fe89fe4eb58b89092b3feace38",
      "70e7a181e49e470ea2e567a28f68c83c",
      "ebccb9f6f82449a3b1b3542cb7263d7b",
      "52ab626df67849d5a0d70d1b0dc06964",
      "9b62837424fc4c34a5f6fea20cc87a56",
      "30be5fb7922d47ef88e14f449c55259d",
      "8c451c4351d549aa82b88df93a2fe3fa",
      "925c5bf3343a4d20b2bade1048a594da",
      "813f2ee3c00545ceb45cb525bd8a26f1",
      "ac74118b1bf94c85ad7e9b7e510980bf",
      "657347dbca464b2290ad644fd1bf65d3",
      "869ed98bbcf845d1a1c8cc7ff0b31154",
      "1e6de409b5bb42739c152e8b73d09f1d",
      "13c2dc85613748fabca008195b1ce240",
      "f33906c83f634e3faa9a9748e34f9408",
      "3f6018af98cb46f5be624abd034c7d4d",
      "3fed726093ee492483ab1840b43fe505",
      "34cbc2716b02479e8f4ad547bc874f01",
      "2c19f5a52af645c19012e2789fb56988",
      "0a4e96f504b044db8c712f43a46d01ee",
      "1d0c91897bd046d99084c510c07f56ea",
      "b96b2dbdd04a46cba11feb1eb768b305",
      "bc249b13d7a1448385d1e8b53f655355",
      "da7f5373db654b3a93862e672c65e2d1",
      "3c6101af2e4e4d10934dee143b211c55",
      "f49458ffbb2040bb99d3ec392536aad9",
      "4c8600ea720e427ca10fa65daea8d2bb",
      "6e7d89ed2a544ffa891915e9182077ad",
      "fab749d08ea24c019d168791b5520755",
      "a515c8b7250e4bb0b390a52415cb0c79",
      "d511f5854c374f7daf44f88da0ab5720",
      "ca36533e0d5440d2bf1ea38fad2ed6f2",
      "52d623e54e534ec88da6c99344e733c3",
      "264a6718096745379e4a8b83486f05a6"
     ]
    },
    "executionInfo": {
     "elapsed": 15316,
     "status": "ok",
     "timestamp": 1743304263536,
     "user": {
      "displayName": "Fitsum Gebrezghiabihier",
      "userId": "14703701947314107112"
     },
     "user_tz": 240
    },
    "id": "mOOftl8du6VK",
    "outputId": "31c200be-eb7c-480c-cce4-ded7519e4abb"
   },
   "outputs": [
    {
     "data": {
      "application/vnd.jupyter.widget-view+json": {
       "model_id": "f56d4ed9a9804888bbe257262d0f8866",
       "version_major": 2,
       "version_minor": 0
      },
      "text/plain": [
       "config.json:   0%|          | 0.00/723 [00:00<?, ?B/s]"
      ]
     },
     "metadata": {},
     "output_type": "display_data"
    },
    {
     "data": {
      "application/vnd.jupyter.widget-view+json": {
       "model_id": "38790746430d49ecbd20a6fbbfcb79a2",
       "version_major": 2,
       "version_minor": 0
      },
      "text/plain": [
       "model.safetensors:   0%|          | 0.00/268M [00:00<?, ?B/s]"
      ]
     },
     "metadata": {},
     "output_type": "display_data"
    },
    {
     "data": {
      "application/vnd.jupyter.widget-view+json": {
       "model_id": "ae35cf14b6b74d93a570c9af37ad3dfd",
       "version_major": 2,
       "version_minor": 0
      },
      "text/plain": [
       "tokenizer_config.json:   0%|          | 0.00/1.42k [00:00<?, ?B/s]"
      ]
     },
     "metadata": {},
     "output_type": "display_data"
    },
    {
     "data": {
      "application/vnd.jupyter.widget-view+json": {
       "model_id": "70e7a181e49e470ea2e567a28f68c83c",
       "version_major": 2,
       "version_minor": 0
      },
      "text/plain": [
       "vocab.txt:   0%|          | 0.00/232k [00:00<?, ?B/s]"
      ]
     },
     "metadata": {},
     "output_type": "display_data"
    },
    {
     "data": {
      "application/vnd.jupyter.widget-view+json": {
       "model_id": "1e6de409b5bb42739c152e8b73d09f1d",
       "version_major": 2,
       "version_minor": 0
      },
      "text/plain": [
       "tokenizer.json:   0%|          | 0.00/712k [00:00<?, ?B/s]"
      ]
     },
     "metadata": {},
     "output_type": "display_data"
    },
    {
     "data": {
      "application/vnd.jupyter.widget-view+json": {
       "model_id": "da7f5373db654b3a93862e672c65e2d1",
       "version_major": 2,
       "version_minor": 0
      },
      "text/plain": [
       "special_tokens_map.json:   0%|          | 0.00/695 [00:00<?, ?B/s]"
      ]
     },
     "metadata": {},
     "output_type": "display_data"
    }
   ],
   "source": [
    "from transformers import AutoTokenizer, AutoModelForSequenceClassification\n",
    "\n",
    "# Define your Hugging Face repository name\n",
    "repo_name = \"fitsblb/YelpReviewsAnalyzer\"\n",
    "\n",
    "# Load the model and tokenizer\n",
    "model = AutoModelForSequenceClassification.from_pretrained(repo_name)\n",
    "tokenizer = AutoTokenizer.from_pretrained(repo_name)\n"
   ]
  },
  {
   "cell_type": "code",
   "execution_count": 16,
   "metadata": {
    "colab": {
     "base_uri": "https://localhost:8080/"
    },
    "executionInfo": {
     "elapsed": 160,
     "status": "ok",
     "timestamp": 1743304398483,
     "user": {
      "displayName": "Fitsum Gebrezghiabihier",
      "userId": "14703701947314107112"
     },
     "user_tz": 240
    },
    "id": "nN06T4JcB_bT",
    "outputId": "a8ed9feb-4b70-4695-cf23-a3935a1d77bd"
   },
   "outputs": [
    {
     "name": "stdout",
     "output_type": "stream",
     "text": [
      "Predicted sentiment: Negative\n"
     ]
    }
   ],
   "source": [
    "import torch\n",
    "\n",
    "# Sample review for testing\n",
    "sample_text = \"The food was absolutely amazing and the service was top-notch!\"\n",
    "\n",
    "# Tokenize the input\n",
    "inputs = tokenizer(sample_text, return_tensors=\"pt\", truncation=True, padding=True)\n",
    "\n",
    "# Generate predictions\n",
    "outputs = model(**inputs)\n",
    "predictions = torch.argmax(outputs.logits, dim=-1)\n",
    "\n",
    "# Interpret the prediction (assuming your model is sentiment analysis)\n",
    "sentiment = \"Positive\" if predictions.item() == 1 else \"Negative\"\n",
    "print(f\"Predicted sentiment: {sentiment}\")\n"
   ]
  },
  {
   "cell_type": "code",
   "execution_count": 19,
   "metadata": {
    "colab": {
     "base_uri": "https://localhost:8080/"
    },
    "executionInfo": {
     "elapsed": 303,
     "status": "ok",
     "timestamp": 1743304670225,
     "user": {
      "displayName": "Fitsum Gebrezghiabihier",
      "userId": "14703701947314107112"
     },
     "user_tz": 240
    },
    "id": "vibikYcSCT0O",
    "outputId": "6b3be75e-ed49-4f98-b97e-7dac25bbc6ec"
   },
   "outputs": [
    {
     "name": "stderr",
     "output_type": "stream",
     "text": [
      "Device set to use cuda:0\n"
     ]
    },
    {
     "name": "stdout",
     "output_type": "stream",
     "text": [
      "Review: The food was absolutely amazing and the service was top-notch!\n",
      "Predicted sentiment: Positive (Label: LABEL_2)\n"
     ]
    }
   ],
   "source": [
    "from transformers import pipeline\n",
    "\n",
    "# Load model from Hugging Face Hub\n",
    "sentiment_pipeline = pipeline(\n",
    "    \"sentiment-analysis\",\n",
    "    model=\"fitsblb/YelpReviewsAnalyzer\"  # Replace with your Hugging Face repo name\n",
    ")\n",
    "\n",
    "# Define a custom function to map predicted labels to sentiments\n",
    "def map_sentiment_label(label):\n",
    "    if label == \"LABEL_0\":\n",
    "        return \"Negative\"\n",
    "    elif label == \"LABEL_1\":\n",
    "        return \"Neutral\"\n",
    "    elif label == \"LABEL_2\":\n",
    "        return \"Positive\"\n",
    "    else:\n",
    "        return \"Unknown\"\n",
    "\n",
    "# Test the model with a sample input\n",
    "sample_text = \"The food was absolutely amazing and the service was top-notch!\"\n",
    "output = sentiment_pipeline(sample_text)\n",
    "\n",
    "# Extract the label and map it to your custom sentiment\n",
    "predicted_label = output[0]['label']  # Use the label returned from the pipeline\n",
    "sentiment = map_sentiment_label(predicted_label)\n",
    "\n",
    "print(f\"Review: {sample_text}\\nPredicted sentiment: {sentiment} (Label: {predicted_label})\")\n"
   ]
  },
  {
   "cell_type": "code",
   "execution_count": 26,
   "metadata": {
    "executionInfo": {
     "elapsed": 236,
     "status": "ok",
     "timestamp": 1743305357754,
     "user": {
      "displayName": "Fitsum Gebrezghiabihier",
      "userId": "14703701947314107112"
     },
     "user_tz": 240
    },
    "id": "9uMH8nHjFuHE"
   },
   "outputs": [],
   "source": []
  }
 ],
 "metadata": {
  "colab": {
   "provenance": []
  },
  "kernelspec": {
   "display_name": "Python 3",
   "name": "python3"
  },
  "language_info": {
   "name": "python"
  }
 },
 "nbformat": 4,
 "nbformat_minor": 0
}
